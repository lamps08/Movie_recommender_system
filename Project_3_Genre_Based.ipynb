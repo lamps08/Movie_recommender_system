{
 "cells": [
  {
   "cell_type": "code",
   "execution_count": 95,
   "metadata": {
    "collapsed": false
   },
   "outputs": [],
   "source": [
    "####\n",
    "### Reference :https://www.kaggle.com/naumani/content-based-anime-recommender\n",
    "#### Mahmood Naumani\n",
    "\n",
    "\n",
    "import numpy as np\n",
    "import pandas as pd\n",
    "import matplotlib.pyplot as plt\n",
    "import re\n",
    "import seaborn as sns\n",
    "from sklearn.preprocessing import MaxAbsScaler\n",
    "from sklearn.neighbors import NearestNeighbors\n",
    "\n",
    "\n",
    "movie = pd.read_csv(\"Movie_incomplete.csv\")\n",
    "\n",
    "movie_features = pd.concat([movie[\"genres\"].str.get_dummies(sep=\"|\"),movie[\"plot_keywords\"].str.get_dummies(sep=\"|\"),pd.get_dummies(movie[[\"language\"\\\n",
    "]]),pd.get_dummies(movie[[\"budget\"]]),pd.get_dummies(movie[[\"imdb_score\"]]),pd.get_dummies(movie[[\"gross\"]]),pd.get_dummies(movie[[\"title_year\"]]),\\\n",
    "pd.get_dummies(movie[[\"num_critic_for_reviews\"]]),pd.get_dummies(movie[[\"num_user_for_reviews\"]])],axis=1)\n",
    "\n",
    "\n",
    "\n",
    "max_abs_scaler = MaxAbsScaler()\n",
    "movie_features = max_abs_scaler.fit_transform(movie_features)\n",
    "movie[\"movie_title\"] = movie[\"movie_title\"].map(lambda name:re.sub('[^A-Za-z0-9]+', \" \", name))\n",
    "\n",
    "\n",
    "nbrs = NearestNeighbors(n_neighbors=15, algorithm='auto').fit(movie_features)\n",
    "distances, indices = nbrs.kneighbors(movie_features)\n",
    "\n",
    "\n",
    "def get_index_from_name(name):\n",
    "    for movies in movie['movie_title']:\n",
    "        if name == movies.strip():\n",
    "            return movie[movie[\"movie_title\"]== movies].index.tolist()[0]\n",
    "\n",
    "        \n",
    "def print_similar_movies(query=None,id=None):\n",
    "    if id:\n",
    "        for id in indices[id][1:]:\n",
    "            print(movie.ix[id][\"movie_title\"])\n",
    "    if query:\n",
    "        found_id = get_index_from_name(query)\n",
    "        for id in indices[found_id][1:]:\n",
    "            print(movie.ix[id][\"movie_title\"])\n",
    "        \n",
    "\n"
   ]
  },
  {
   "cell_type": "code",
   "execution_count": 101,
   "metadata": {
    "collapsed": false
   },
   "outputs": [
    {
     "name": "stdout",
     "output_type": "stream",
     "text": [
      "Dr No \n",
      "Lethal Weapon 3 \n",
      "The One \n",
      "Black or White \n",
      "Deceptive Practice The Mysteries and Mentors of Ricky Jay \n",
      "Sholem Aleichem Laughing in the Darkness \n",
      "Baggage Claim \n",
      "Taken \n",
      "The Young Messiah \n",
      "Olympus Has Fallen \n",
      "A Good Day to Die Hard \n",
      "Unstoppable \n",
      "Haywire \n",
      "Die Hard \n"
     ]
    }
   ],
   "source": [
    "print_similar_movies(query=\"The Dark Knight Rises\")\n",
    "        "
   ]
  },
  {
   "cell_type": "code",
   "execution_count": 90,
   "metadata": {
    "collapsed": false
   },
   "outputs": [
    {
     "name": "stdout",
     "output_type": "stream",
     "text": [
      "The One \n",
      "Lethal Weapon 3 \n",
      "Baggage Claim \n",
      "Dr No \n",
      "Deceptive Practice The Mysteries and Mentors of Ricky Jay \n",
      "Black or White \n",
      "Sholem Aleichem Laughing in the Darkness \n",
      "The Young Messiah \n",
      "Die Hard \n",
      "Into the Storm \n",
      "No Escape \n",
      "From Paris with Love \n",
      "The Devil s Own \n",
      "The Cold Light of Day \n"
     ]
    }
   ],
   "source": []
  },
  {
   "cell_type": "code",
   "execution_count": null,
   "metadata": {
    "collapsed": true
   },
   "outputs": [],
   "source": []
  },
  {
   "cell_type": "code",
   "execution_count": null,
   "metadata": {
    "collapsed": true
   },
   "outputs": [],
   "source": []
  },
  {
   "cell_type": "code",
   "execution_count": null,
   "metadata": {
    "collapsed": true
   },
   "outputs": [],
   "source": []
  },
  {
   "cell_type": "code",
   "execution_count": null,
   "metadata": {
    "collapsed": true
   },
   "outputs": [],
   "source": []
  }
 ],
 "metadata": {
  "kernelspec": {
   "display_name": "Python 2",
   "language": "python",
   "name": "python2"
  },
  "language_info": {
   "codemirror_mode": {
    "name": "ipython",
    "version": 2
   },
   "file_extension": ".py",
   "mimetype": "text/x-python",
   "name": "python",
   "nbconvert_exporter": "python",
   "pygments_lexer": "ipython2",
   "version": "2.7.13"
  }
 },
 "nbformat": 4,
 "nbformat_minor": 2
}
